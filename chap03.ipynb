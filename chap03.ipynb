{
 "cells": [
  {
   "cell_type": "markdown",
   "id": "827c0c90",
   "metadata": {},
   "source": [
    "# 3. Attention メカニズムのコーディング"
   ]
  },
  {
   "cell_type": "markdown",
   "id": "91a20707",
   "metadata": {},
   "source": [
    "## 3. 3 Sefl-Attention を使って入力の異なる部分に注意を払う"
   ]
  },
  {
   "cell_type": "code",
   "execution_count": null,
   "id": "aeefe89e",
   "metadata": {},
   "outputs": [],
   "source": [
    "import torch"
   ]
  },
  {
   "cell_type": "code",
   "execution_count": null,
   "id": "9259abbb",
   "metadata": {},
   "outputs": [],
   "source": [
    "inputs = torch.tensor(\n",
    "  [[0.43, 0.15, 0.89], # Your x^1\n",
    "   [0.55, 0.87, 0.66], # journey x^2\n",
    "   [0.57, 0.85, 0.64], # starts x^3\n",
    "   [0.22, 0.85, 0.33], # with x^4\n",
    "   [0.77, 0.25, 0.10], # one x^5\n",
    "   [0.05, 0.80, 0.55]  # step x^6\n",
    "  ]\n",
    ")"
   ]
  },
  {
   "cell_type": "code",
   "execution_count": null,
   "id": "55d8c61e",
   "metadata": {},
   "outputs": [],
   "source": [
    "query = inputs[1]\n",
    "attn_scores_2 = torch.empty(inputs.shape[0])\n",
    "for i, x_i in enumerate(inputs):\n",
    "  attn_scores_2[i] = torch.dot(x_i, query)\n",
    "\n",
    "print(attn_scores_2)"
   ]
  },
  {
   "cell_type": "code",
   "execution_count": null,
   "id": "95790e47",
   "metadata": {},
   "outputs": [],
   "source": [
    "attn_weights_2_tmp = attn_scores_2 / attn_scores_2.sum()\n",
    "print(\"Attention weights:\", attn_weights_2_tmp)\n",
    "print(\"Sum:\", attn_weights_2_tmp.sum())"
   ]
  },
  {
   "cell_type": "code",
   "execution_count": null,
   "id": "27060f9c",
   "metadata": {},
   "outputs": [],
   "source": [
    "def softmax_naive(x):\n",
    "  return torch.exp(x) / torch.exp(x).sum(dim=0)"
   ]
  },
  {
   "cell_type": "code",
   "execution_count": null,
   "id": "05d43af9",
   "metadata": {},
   "outputs": [],
   "source": [
    "attn_weights_2_naive = softmax_naive(attn_scores_2)\n",
    "print(\"Attention weights:\", attn_weights_2_naive)\n",
    "print(\"Sum:\", attn_weights_2_naive.sum()) "
   ]
  },
  {
   "cell_type": "code",
   "execution_count": null,
   "id": "fad168ba",
   "metadata": {},
   "outputs": [],
   "source": [
    "attn_weight_2 = torch.softmax(attn_scores_2, dim=0)\n",
    "print(\"Attention weights:\", attn_weight_2)\n",
    "print(\"Sum:\", attn_weight_2.sum())"
   ]
  },
  {
   "cell_type": "code",
   "execution_count": null,
   "id": "6f5c70c6",
   "metadata": {},
   "outputs": [],
   "source": [
    "query = inputs[1]\n",
    "\n",
    "context_vec_2 = torch.zeros(query.shape)\n",
    "for i, x_i in enumerate(inputs):\n",
    "  context_vec_2 += attn_weight_2[i] * x_i\n",
    "\n",
    "print(context_vec_2)"
   ]
  },
  {
   "cell_type": "code",
   "execution_count": null,
   "id": "f5bafd0e",
   "metadata": {},
   "outputs": [],
   "source": [
    "attn_scores = torch.empty(6, 6)\n",
    "for i, x_i in enumerate(inputs):\n",
    "  for j, x_j in enumerate(inputs):\n",
    "    attn_scores[i, j] = torch.dot(x_i, x_j)\n",
    "\n",
    "print(attn_scores)"
   ]
  },
  {
   "cell_type": "code",
   "execution_count": null,
   "id": "616e8f76",
   "metadata": {},
   "outputs": [],
   "source": [
    "attn_scores = inputs @ inputs.T\n",
    "\n",
    "print(attn_scores)"
   ]
  },
  {
   "cell_type": "code",
   "execution_count": null,
   "id": "b767d655",
   "metadata": {},
   "outputs": [],
   "source": [
    "attn_weights = torch.softmax(attn_scores, dim=-1)\n",
    "print(attn_weights)"
   ]
  },
  {
   "cell_type": "code",
   "execution_count": null,
   "id": "b4457d32",
   "metadata": {},
   "outputs": [],
   "source": [
    "row_2_sum = sum([0.1341, 0.2303, 0.2259, 0.1518, 0.1047, 0.1531])\n",
    "print(\"Row 2 sum:\", row_2_sum)\n",
    "print(\"All row sums:\", attn_weights.sum(dim=-1))"
   ]
  },
  {
   "cell_type": "code",
   "execution_count": null,
   "id": "c18814a6",
   "metadata": {},
   "outputs": [],
   "source": [
    "inputs"
   ]
  },
  {
   "cell_type": "code",
   "execution_count": null,
   "id": "1a48d21e",
   "metadata": {},
   "outputs": [],
   "source": [
    "all_context_vecs = attn_weights @ inputs\n",
    "print(all_context_vecs)"
   ]
  },
  {
   "cell_type": "code",
   "execution_count": null,
   "id": "9257b939",
   "metadata": {},
   "outputs": [],
   "source": [
    "print(\"Previous 2nd context vector:\", context_vec_2)"
   ]
  },
  {
   "cell_type": "markdown",
   "id": "b0ad424c",
   "metadata": {},
   "source": [
    "## 3.4 訓練可能な重みをもつ Self-Attention を実装する"
   ]
  },
  {
   "cell_type": "code",
   "execution_count": null,
   "id": "f4ec1b3c",
   "metadata": {},
   "outputs": [],
   "source": [
    "x_2 = inputs[1]\n",
    "d_in = inputs.shape[1] # = 3\n",
    "d_out = 2"
   ]
  },
  {
   "cell_type": "code",
   "execution_count": null,
   "id": "cdbea7f5",
   "metadata": {},
   "outputs": [],
   "source": [
    "torch.manual_seed(123)\n",
    "W_query = torch.nn.Parameter(torch.rand(d_in, d_out), requires_grad=False)\n",
    "W_key   = torch.nn.Parameter(torch.rand(d_in, d_out), requires_grad=False)\n",
    "W_value = torch.nn.Parameter(torch.rand(d_in, d_out), requires_grad=False)"
   ]
  },
  {
   "cell_type": "code",
   "execution_count": null,
   "id": "a45fcecc",
   "metadata": {},
   "outputs": [],
   "source": [
    "query_2 = x_2 @ W_query\n",
    "key_2 = x_2 @ W_key \n",
    "value_2 = x_2 @ W_value\n",
    "print(query_2)"
   ]
  },
  {
   "cell_type": "code",
   "execution_count": null,
   "id": "585e3c04",
   "metadata": {},
   "outputs": [],
   "source": [
    "keys = inputs @ W_key \n",
    "values = inputs @ W_value\n",
    "print(\"keys.shape:\", keys.shape)\n",
    "print(\"values.shape:\", values.shape)"
   ]
  },
  {
   "cell_type": "code",
   "execution_count": null,
   "id": "41cffc5a",
   "metadata": {},
   "outputs": [],
   "source": [
    "keys_2 = keys[1]\n",
    "attn_score_22 = query_2.dot(keys_2)\n",
    "print(attn_score_22)"
   ]
  },
  {
   "cell_type": "code",
   "execution_count": null,
   "id": "cb22237b",
   "metadata": {},
   "outputs": [],
   "source": [
    "attn_scores_2 = query_2 @ keys.T\n",
    "print(attn_scores_2)"
   ]
  },
  {
   "cell_type": "code",
   "execution_count": null,
   "id": "11eafe74",
   "metadata": {},
   "outputs": [],
   "source": [
    "d_k = keys.shape[-1]\n",
    "attn_weights_2 = torch.softmax(attn_scores_2 / d_k ** 0.5, dim=-1)\n",
    "print(attn_weights_2)"
   ]
  },
  {
   "cell_type": "code",
   "execution_count": null,
   "id": "3f86a1c8",
   "metadata": {},
   "outputs": [],
   "source": [
    "context_vec_2 = attn_weights_2 @ values\n",
    "print(context_vec_2)"
   ]
  },
  {
   "cell_type": "code",
   "execution_count": null,
   "id": "29a95c32",
   "metadata": {},
   "outputs": [],
   "source": [
    "import torch.nn as nn \n",
    "\n",
    "class SelfAttention_v1(nn.Module):\n",
    "\n",
    "  def __init__(self, d_in, d_out):\n",
    "    super().__init__()\n",
    "    self.W_query  = nn.Parameter(torch.rand(d_in, d_out))\n",
    "    self.W_key    = nn.Parameter(torch.rand(d_in, d_out))\n",
    "    self.W_value  = nn.Parameter(torch.rand(d_in, d_out))\n",
    "\n",
    "  def forward(self, x):\n",
    "    keys    = x @ self.W_key\n",
    "    queries = x @ self.W_query\n",
    "    values  = x @ self.W_value\n",
    "\n",
    "    attn_scores = queries @ keys.T\n",
    "    attn_weights = torch.softmax(attn_scores / keys.shape[-1]**0.5, dim=-1)\n",
    "    context_vec = attn_weights @ values\n",
    "    return context_vec\n",
    "\n"
   ]
  },
  {
   "cell_type": "code",
   "execution_count": null,
   "id": "6e6bf004",
   "metadata": {},
   "outputs": [],
   "source": [
    "torch.manual_seed(123)\n",
    "sa_v1 = SelfAttention_v1(d_in, d_out)\n",
    "print(sa_v1(inputs))"
   ]
  },
  {
   "cell_type": "code",
   "execution_count": null,
   "id": "875379f7",
   "metadata": {},
   "outputs": [],
   "source": [
    "print(context_vec_2)"
   ]
  },
  {
   "cell_type": "code",
   "execution_count": null,
   "id": "ec7aca2b",
   "metadata": {},
   "outputs": [],
   "source": [
    "class SelfAttention_v2(nn.Module):\n",
    "  \n",
    "  def __init__(self, d_in, d_out, qkv_bias=False):\n",
    "    super().__init__()\n",
    "    self.W_query  = nn.Linear(d_in, d_out, bias=qkv_bias)\n",
    "    self.W_key    = nn.Linear(d_in, d_out, bias=qkv_bias)\n",
    "    self.W_value  = nn.Linear(d_in, d_out, bias=qkv_bias)\n",
    "\n",
    "  def forward(self, x):\n",
    "    keys    = self.W_key(x)\n",
    "    queries = self.W_query(x)\n",
    "    values  = self.W_value(x)\n",
    "\n",
    "    attn_scores = queries @ keys.T\n",
    "    attn_weights = torch.softmax(attn_scores / keys.shape[-1]**0.5, dim=-1)\n",
    "    context_vec = attn_weights @ values\n",
    "    return context_vec\n",
    "    "
   ]
  },
  {
   "cell_type": "code",
   "execution_count": null,
   "id": "9578f9a5",
   "metadata": {},
   "outputs": [],
   "source": [
    "torch.manual_seed(789)\n",
    "sa_v2 = SelfAttention_v2(d_in, d_out)\n",
    "print(sa_v2(inputs))"
   ]
  },
  {
   "cell_type": "markdown",
   "id": "0da09ebc",
   "metadata": {},
   "source": [
    "## 3. 5 Causal Attention で未来の単語を隠す"
   ]
  },
  {
   "cell_type": "code",
   "execution_count": null,
   "id": "4fc4296f",
   "metadata": {},
   "outputs": [],
   "source": [
    "queries = sa_v2.W_query(inputs)\n",
    "keys    = sa_v2.W_key(inputs)\n",
    "\n",
    "attn_scores = queries @ keys.T\n",
    "attn_weights = torch.softmax(attn_scores / keys.shape[-1] ** 0.5, dim=-1)\n",
    "print(attn_weights)"
   ]
  },
  {
   "cell_type": "code",
   "execution_count": null,
   "id": "22f6178f",
   "metadata": {},
   "outputs": [],
   "source": [
    "context_length = attn_scores.shape[0]\n",
    "mask_simple = torch.tril(torch.ones(context_length, context_length))\n",
    "print(mask_simple)"
   ]
  },
  {
   "cell_type": "code",
   "execution_count": null,
   "id": "2b42f09a",
   "metadata": {},
   "outputs": [],
   "source": [
    "masked_simple = attn_weights * mask_simple\n",
    "print(masked_simple)"
   ]
  },
  {
   "cell_type": "code",
   "execution_count": null,
   "id": "f439c716",
   "metadata": {},
   "outputs": [],
   "source": [
    "row_sums = masked_simple.sum(dim=-1, keepdim=True)\n",
    "masked_simple_norm = masked_simple / row_sums\n",
    "print(masked_simple_norm)"
   ]
  },
  {
   "cell_type": "code",
   "execution_count": null,
   "id": "6d438ca7",
   "metadata": {},
   "outputs": [],
   "source": [
    "mask = torch.triu(torch.ones(context_length, context_length), diagonal=1)\n",
    "masked = attn_scores.masked_fill(mask.bool(), -torch.inf)\n",
    "print(masked)"
   ]
  },
  {
   "cell_type": "code",
   "execution_count": null,
   "id": "95814457",
   "metadata": {},
   "outputs": [],
   "source": [
    "attn_weights = torch.softmax(masked / keys.shape[-1]**0.5, dim=1)\n",
    "print(attn_weights)"
   ]
  },
  {
   "cell_type": "code",
   "execution_count": null,
   "id": "38c6cb08",
   "metadata": {},
   "outputs": [],
   "source": [
    "# dropout\n",
    "dropout = torch.nn.Dropout(p=0.5)\n",
    "example = torch.ones(6, 6)\n",
    "print(dropout(example))"
   ]
  },
  {
   "cell_type": "code",
   "execution_count": null,
   "id": "170ceb3f",
   "metadata": {},
   "outputs": [],
   "source": [
    "torch.manual_seed(789)\n",
    "print(dropout(attn_weights))"
   ]
  },
  {
   "cell_type": "code",
   "execution_count": null,
   "id": "899e5032",
   "metadata": {},
   "outputs": [],
   "source": [
    "batch = torch.stack((inputs, inputs), dim=0)\n",
    "print(batch.shape)"
   ]
  },
  {
   "cell_type": "code",
   "execution_count": null,
   "id": "13b71b69",
   "metadata": {},
   "outputs": [],
   "source": [
    "class CausalAttention(nn.Module):\n",
    "  def __init__(self, d_in, d_out, context_length, dropout, qkv_bias=False):\n",
    "    super().__init__()\n",
    "    self.d_out = d_out\n",
    "    self.W_query  = nn.Linear(d_in, d_out, bias=qkv_bias)\n",
    "    self.W_key    = nn.Linear(d_in, d_out, bias=qkv_bias)\n",
    "    self.W_value  = nn.Linear(d_in, d_out, bias=qkv_bias)\n",
    "\n",
    "    self.dropout  = nn.Dropout(dropout)\n",
    "    self.register_buffer('mask', torch.triu(torch.ones(context_length, context_length), diagonal=1))\n",
    "\n",
    "  def forward(self, x):\n",
    "    b, num_tokens, d_in = x.shape\n",
    "    keys    = self.W_key(x)\n",
    "    queries = self.W_query(x)\n",
    "    values  = self.W_value(x)\n",
    "\n",
    "    attn_scores = queries @ keys.transpose(1, 2)\n",
    "    attn_scores.masked_fill_(self.mask.bool()[:num_tokens, :num_tokens], -torch.inf)\n",
    "    attn_weights = torch.softmax(attn_scores / keys.shape[-1]**0.5, dim=-1)\n",
    "    attn_weights = self.dropout(attn_weights)\n",
    "\n",
    "    context_vec = attn_weights @ values\n",
    "    return context_vec"
   ]
  },
  {
   "cell_type": "code",
   "execution_count": null,
   "id": "d1e18dca",
   "metadata": {},
   "outputs": [],
   "source": [
    "torch.manual_seed(123)\n",
    "context_length = batch.shape[1]\n",
    "ca = CausalAttention(d_in, d_out, context_length, 0.0)\n",
    "context_vecs = ca(batch)\n",
    "print(\"context_vecs.shape:\", context_vecs.shape)"
   ]
  },
  {
   "cell_type": "code",
   "execution_count": null,
   "id": "2ce3674a",
   "metadata": {},
   "outputs": [],
   "source": [
    "class MultiHeadAttentionWrapper(nn.Module):\n",
    "  def __init__(self, d_in, d_out, context_length, dropout, num_heads, qkv_bias=False):\n",
    "    super().__init__()\n",
    "    self.heads = nn.ModuleList(\n",
    "      [CausalAttention(d_in, d_out, context_length, dropout, qkv_bias)\n",
    "       for _ in range(num_heads)]\n",
    "    )\n",
    "  \n",
    "  def forward(self, x):\n",
    "    return torch.cat([head(x) for head in self.heads], dim=-1)\n",
    "  "
   ]
  },
  {
   "cell_type": "code",
   "execution_count": null,
   "id": "8fca78a2",
   "metadata": {},
   "outputs": [],
   "source": [
    "torch.manual_seed(123)\n",
    "context_length = batch.shape[1]\n",
    "d_in, d_out = 3, 2\n",
    "mha = MultiHeadAttentionWrapper(d_in, d_out, context_length, 0.0, num_heads=2)\n",
    "context_vecs = mha(batch)\n",
    "\n",
    "print(context_vecs)\n",
    "print(\"context_vecs.shape:\", context_vecs.shape)"
   ]
  },
  {
   "cell_type": "code",
   "execution_count": null,
   "id": "adfd4cff",
   "metadata": {},
   "outputs": [],
   "source": [
    "class MultiHeadAttention(nn.Module):\n",
    "  def __init__(self, d_in, d_out, context_length, dropout, num_heads, qkv_bias=False):\n",
    "    super().__init__()\n",
    "    assert (d_out % num_heads == 0), \"d_out must be divisible by num_heads\"\n",
    "\n",
    "    self.d_out = d_out\n",
    "    self.num_heads = num_heads\n",
    "    self.head_dim = d_out // num_heads\n",
    "\n",
    "    self.W_query  = nn.Linear(d_in, d_out, bias=qkv_bias)\n",
    "    self.W_key    = nn.Linear(d_in, d_out, bias=qkv_bias)\n",
    "    self.W_value  = nn.Linear(d_in, d_out, bias=qkv_bias)\n",
    "    \n",
    "    self.out_proj = nn.Linear(d_out, d_out)\n",
    "    self.dropout = nn.Dropout(dropout)\n",
    "    self.register_buffer(\n",
    "      \"mask\",\n",
    "      torch.triu(torch.ones(context_length, context_length), diagonal=1)\n",
    "    )\n",
    "\n",
    "  def forward(self, x):\n",
    "    b, num_tokens, d_in = x.shape\n",
    "\n",
    "    keys    = self.W_key(x)\n",
    "    queries = self.W_query(x)\n",
    "    values  = self.W_value(x)\n",
    "\n",
    "    keys    = keys.view(    b, num_tokens, self.num_heads, self.head_dim)\n",
    "    values  = values.view(  b, num_tokens, self.num_heads, self.head_dim)\n",
    "    queries = queries.view( b, num_tokens, self.num_heads, self.head_dim)\n",
    "\n",
    "    keys    = keys.transpose(1, 2)\n",
    "    queries = queries.transpose(1, 2)\n",
    "    values  = values.transpose(1, 2)\n",
    "\n",
    "    attn_scores = queries @ keys.transpose(2, 3)\n",
    "\n",
    "    mask_bool = self.mask.bool()[:num_tokens, :num_tokens]\n",
    "\n",
    "    attn_scores.masked_fill_(mask_bool, -torch.inf)\n",
    "\n",
    "    attn_weights = torch.softmax(attn_scores / keys.shape[-1]**0.5, dim=-1)\n",
    "    attn_weights = self.dropout(attn_weights)\n",
    "\n",
    "    context_vec = (attn_weights @ values).transpose(1, 2)\n",
    "    context_vec = context_vec.contiguous().view(\n",
    "      b, num_tokens, self.d_out\n",
    "    )\n",
    "\n",
    "    context_vec = self.out_proj(context_vec)\n",
    "\n",
    "    return context_vec\n",
    "    \n"
   ]
  },
  {
   "cell_type": "code",
   "execution_count": null,
   "id": "9e333cd1",
   "metadata": {},
   "outputs": [],
   "source": [
    "torch.manual_seed(123)\n",
    "batch_size, context_length, d_in = batch.shape\n",
    "d_out = 2\n",
    "mha = MultiHeadAttention(d_in, d_out, context_length, 0.0, num_heads=2)\n",
    "context_vecs = mha(batch)\n",
    "print(context_vecs)\n",
    "print(\"context_vecs.shape:\", context_vecs.shape)"
   ]
  },
  {
   "cell_type": "code",
   "execution_count": null,
   "id": "58e656b5",
   "metadata": {},
   "outputs": [],
   "source": []
  }
 ],
 "metadata": {
  "kernelspec": {
   "display_name": ".venv",
   "language": "python",
   "name": "python3"
  },
  "language_info": {
   "codemirror_mode": {
    "name": "ipython",
    "version": 3
   },
   "file_extension": ".py",
   "mimetype": "text/x-python",
   "name": "python",
   "nbconvert_exporter": "python",
   "pygments_lexer": "ipython3",
   "version": "3.10.12"
  }
 },
 "nbformat": 4,
 "nbformat_minor": 5
}
