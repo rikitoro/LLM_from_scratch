{
 "cells": [
  {
   "cell_type": "markdown",
   "id": "827c0c90",
   "metadata": {},
   "source": [
    "# 3. Attention メカニズムのコーディング"
   ]
  },
  {
   "cell_type": "markdown",
   "id": "91a20707",
   "metadata": {},
   "source": [
    "## 3. 3 Sefl-Attention を使って入力の異なる部分に注意を払う"
   ]
  },
  {
   "cell_type": "code",
   "execution_count": 1,
   "id": "aeefe89e",
   "metadata": {},
   "outputs": [],
   "source": [
    "import torch"
   ]
  },
  {
   "cell_type": "code",
   "execution_count": 2,
   "id": "9259abbb",
   "metadata": {},
   "outputs": [],
   "source": [
    "inputs = torch.tensor(\n",
    "  [[0.43, 0.15, 0.89], # Your x^1\n",
    "   [0.55, 0.87, 0.66], # journey x^2\n",
    "   [0.57, 0.85, 0.64], # starts x^3\n",
    "   [0.22, 0.85, 0.33], # with x^4\n",
    "   [0.77, 0.25, 0.10], # one x^5\n",
    "   [0.05, 0.80, 0.55]  # step x^6\n",
    "  ]\n",
    ")"
   ]
  },
  {
   "cell_type": "code",
   "execution_count": 3,
   "id": "55d8c61e",
   "metadata": {},
   "outputs": [
    {
     "name": "stdout",
     "output_type": "stream",
     "text": [
      "tensor([0.9544, 1.4950, 1.4754, 1.0783, 0.7070, 1.0865])\n"
     ]
    }
   ],
   "source": [
    "query = inputs[1]\n",
    "attn_scores_2 = torch.empty(inputs.shape[0])\n",
    "for i, x_i in enumerate(inputs):\n",
    "  attn_scores_2[i] = torch.dot(x_i, query)\n",
    "\n",
    "print(attn_scores_2)"
   ]
  },
  {
   "cell_type": "code",
   "execution_count": 4,
   "id": "95790e47",
   "metadata": {},
   "outputs": [
    {
     "name": "stdout",
     "output_type": "stream",
     "text": [
      "Attention weights: tensor([0.1404, 0.2200, 0.2171, 0.1587, 0.1040, 0.1599])\n",
      "Sum: tensor(1.0000)\n"
     ]
    }
   ],
   "source": [
    "attn_weights_2_tmp = attn_scores_2 / attn_scores_2.sum()\n",
    "print(\"Attention weights:\", attn_weights_2_tmp)\n",
    "print(\"Sum:\", attn_weights_2_tmp.sum())"
   ]
  },
  {
   "cell_type": "code",
   "execution_count": 5,
   "id": "27060f9c",
   "metadata": {},
   "outputs": [],
   "source": [
    "def softmax_naive(x):\n",
    "  return torch.exp(x) / torch.exp(x).sum(dim=0)"
   ]
  },
  {
   "cell_type": "code",
   "execution_count": 6,
   "id": "05d43af9",
   "metadata": {},
   "outputs": [
    {
     "name": "stdout",
     "output_type": "stream",
     "text": [
      "Attention weights: tensor([0.1341, 0.2303, 0.2259, 0.1518, 0.1047, 0.1531])\n",
      "Sum: tensor(1.)\n"
     ]
    }
   ],
   "source": [
    "attn_weights_2_naive = softmax_naive(attn_scores_2)\n",
    "print(\"Attention weights:\", attn_weights_2_naive)\n",
    "print(\"Sum:\", attn_weights_2_naive.sum()) "
   ]
  },
  {
   "cell_type": "code",
   "execution_count": 7,
   "id": "fad168ba",
   "metadata": {},
   "outputs": [
    {
     "name": "stdout",
     "output_type": "stream",
     "text": [
      "Attention weights: tensor([0.1341, 0.2303, 0.2259, 0.1518, 0.1047, 0.1531])\n",
      "Sum: tensor(1.0000)\n"
     ]
    }
   ],
   "source": [
    "attn_weight_2 = torch.softmax(attn_scores_2, dim=0)\n",
    "print(\"Attention weights:\", attn_weight_2)\n",
    "print(\"Sum:\", attn_weight_2.sum())"
   ]
  },
  {
   "cell_type": "code",
   "execution_count": 8,
   "id": "6f5c70c6",
   "metadata": {},
   "outputs": [
    {
     "name": "stdout",
     "output_type": "stream",
     "text": [
      "tensor([0.4348, 0.6902, 0.5607])\n"
     ]
    }
   ],
   "source": [
    "query = inputs[1]\n",
    "\n",
    "context_vec_2 = torch.zeros(query.shape)\n",
    "for i, x_i in enumerate(inputs):\n",
    "  context_vec_2 += attn_weight_2[i] * x_i\n",
    "\n",
    "print(context_vec_2)"
   ]
  },
  {
   "cell_type": "code",
   "execution_count": 9,
   "id": "f5bafd0e",
   "metadata": {},
   "outputs": [
    {
     "name": "stdout",
     "output_type": "stream",
     "text": [
      "tensor([[0.9995, 0.9544, 0.9422, 0.5158, 0.4576, 0.6310],\n",
      "        [0.9544, 1.4950, 1.4754, 1.0783, 0.7070, 1.0865],\n",
      "        [0.9422, 1.4754, 1.4570, 1.0591, 0.7154, 1.0605],\n",
      "        [0.5158, 1.0783, 1.0591, 0.8798, 0.4149, 0.8725],\n",
      "        [0.4576, 0.7070, 0.7154, 0.4149, 0.6654, 0.2935],\n",
      "        [0.6310, 1.0865, 1.0605, 0.8725, 0.2935, 0.9450]])\n"
     ]
    }
   ],
   "source": [
    "attn_scores = torch.empty(6, 6)\n",
    "for i, x_i in enumerate(inputs):\n",
    "  for j, x_j in enumerate(inputs):\n",
    "    attn_scores[i, j] = torch.dot(x_i, x_j)\n",
    "\n",
    "print(attn_scores)"
   ]
  },
  {
   "cell_type": "code",
   "execution_count": 10,
   "id": "616e8f76",
   "metadata": {},
   "outputs": [
    {
     "name": "stdout",
     "output_type": "stream",
     "text": [
      "tensor([[0.9995, 0.9544, 0.9422, 0.5158, 0.4576, 0.6310],\n",
      "        [0.9544, 1.4950, 1.4754, 1.0783, 0.7070, 1.0865],\n",
      "        [0.9422, 1.4754, 1.4570, 1.0591, 0.7154, 1.0605],\n",
      "        [0.5158, 1.0783, 1.0591, 0.8798, 0.4149, 0.8725],\n",
      "        [0.4576, 0.7070, 0.7154, 0.4149, 0.6654, 0.2935],\n",
      "        [0.6310, 1.0865, 1.0605, 0.8725, 0.2935, 0.9450]])\n"
     ]
    }
   ],
   "source": [
    "attn_scores = inputs @ inputs.T\n",
    "\n",
    "print(attn_scores)"
   ]
  },
  {
   "cell_type": "code",
   "execution_count": 11,
   "id": "b767d655",
   "metadata": {},
   "outputs": [
    {
     "name": "stdout",
     "output_type": "stream",
     "text": [
      "tensor([[0.2088, 0.1996, 0.1971, 0.1287, 0.1214, 0.1444],\n",
      "        [0.1341, 0.2303, 0.2259, 0.1518, 0.1047, 0.1531],\n",
      "        [0.1347, 0.2296, 0.2254, 0.1514, 0.1074, 0.1516],\n",
      "        [0.1212, 0.2128, 0.2087, 0.1745, 0.1096, 0.1732],\n",
      "        [0.1512, 0.1940, 0.1956, 0.1448, 0.1861, 0.1283],\n",
      "        [0.1339, 0.2111, 0.2057, 0.1705, 0.0955, 0.1833]])\n"
     ]
    }
   ],
   "source": [
    "attn_weights = torch.softmax(attn_scores, dim=-1)\n",
    "print(attn_weights)"
   ]
  },
  {
   "cell_type": "code",
   "execution_count": 12,
   "id": "b4457d32",
   "metadata": {},
   "outputs": [
    {
     "name": "stdout",
     "output_type": "stream",
     "text": [
      "Row 2 sum: 0.9999\n",
      "All row sums: tensor([1.0000, 1.0000, 1.0000, 1.0000, 1.0000, 1.0000])\n"
     ]
    }
   ],
   "source": [
    "row_2_sum = sum([0.1341, 0.2303, 0.2259, 0.1518, 0.1047, 0.1531])\n",
    "print(\"Row 2 sum:\", row_2_sum)\n",
    "print(\"All row sums:\", attn_weights.sum(dim=-1))"
   ]
  },
  {
   "cell_type": "code",
   "execution_count": 13,
   "id": "c18814a6",
   "metadata": {},
   "outputs": [
    {
     "data": {
      "text/plain": [
       "tensor([[0.4300, 0.1500, 0.8900],\n",
       "        [0.5500, 0.8700, 0.6600],\n",
       "        [0.5700, 0.8500, 0.6400],\n",
       "        [0.2200, 0.8500, 0.3300],\n",
       "        [0.7700, 0.2500, 0.1000],\n",
       "        [0.0500, 0.8000, 0.5500]])"
      ]
     },
     "execution_count": 13,
     "metadata": {},
     "output_type": "execute_result"
    }
   ],
   "source": [
    "inputs"
   ]
  },
  {
   "cell_type": "code",
   "execution_count": 14,
   "id": "1a48d21e",
   "metadata": {},
   "outputs": [
    {
     "name": "stdout",
     "output_type": "stream",
     "text": [
      "tensor([[0.4409, 0.6278, 0.5777],\n",
      "        [0.4348, 0.6902, 0.5607],\n",
      "        [0.4362, 0.6883, 0.5597],\n",
      "        [0.4196, 0.6950, 0.5457],\n",
      "        [0.4648, 0.6300, 0.5247],\n",
      "        [0.4112, 0.6940, 0.5568]])\n"
     ]
    }
   ],
   "source": [
    "all_context_vecs = attn_weights @ inputs\n",
    "print(all_context_vecs)"
   ]
  },
  {
   "cell_type": "code",
   "execution_count": 15,
   "id": "9257b939",
   "metadata": {},
   "outputs": [
    {
     "name": "stdout",
     "output_type": "stream",
     "text": [
      "Previous 2nd context vector: tensor([0.4348, 0.6902, 0.5607])\n"
     ]
    }
   ],
   "source": [
    "print(\"Previous 2nd context vector:\", context_vec_2)"
   ]
  },
  {
   "cell_type": "markdown",
   "id": "b0ad424c",
   "metadata": {},
   "source": [
    "## 3.4 訓練可能な重みをもつ Self-Attention を実装する"
   ]
  },
  {
   "cell_type": "code",
   "execution_count": 16,
   "id": "f4ec1b3c",
   "metadata": {},
   "outputs": [],
   "source": [
    "x_2 = inputs[1]\n",
    "d_in = inputs.shape[1] # = 3\n",
    "d_out = 2"
   ]
  },
  {
   "cell_type": "code",
   "execution_count": 17,
   "id": "cdbea7f5",
   "metadata": {},
   "outputs": [],
   "source": [
    "torch.manual_seed(123)\n",
    "W_query = torch.nn.Parameter(torch.rand(d_in, d_out), requires_grad=False)\n",
    "W_key   = torch.nn.Parameter(torch.rand(d_in, d_out), requires_grad=False)\n",
    "W_value = torch.nn.Parameter(torch.rand(d_in, d_out), requires_grad=False)"
   ]
  },
  {
   "cell_type": "code",
   "execution_count": 18,
   "id": "a45fcecc",
   "metadata": {},
   "outputs": [
    {
     "name": "stdout",
     "output_type": "stream",
     "text": [
      "tensor([0.4306, 1.4551])\n"
     ]
    }
   ],
   "source": [
    "query_2 = x_2 @ W_query\n",
    "key_2 = x_2 @ W_key \n",
    "value_2 = x_2 @ W_value\n",
    "print(query_2)"
   ]
  },
  {
   "cell_type": "code",
   "execution_count": 19,
   "id": "585e3c04",
   "metadata": {},
   "outputs": [
    {
     "name": "stdout",
     "output_type": "stream",
     "text": [
      "keys.shape: torch.Size([6, 2])\n",
      "values.shape: torch.Size([6, 2])\n"
     ]
    }
   ],
   "source": [
    "keys = inputs @ W_key \n",
    "values = inputs @ W_value\n",
    "print(\"keys.shape:\", keys.shape)\n",
    "print(\"values.shape:\", values.shape)"
   ]
  },
  {
   "cell_type": "code",
   "execution_count": 20,
   "id": "41cffc5a",
   "metadata": {},
   "outputs": [
    {
     "name": "stdout",
     "output_type": "stream",
     "text": [
      "tensor(1.8524)\n"
     ]
    }
   ],
   "source": [
    "keys_2 = keys[1]\n",
    "attn_score_22 = query_2.dot(keys_2)\n",
    "print(attn_score_22)"
   ]
  },
  {
   "cell_type": "code",
   "execution_count": 21,
   "id": "cb22237b",
   "metadata": {},
   "outputs": [
    {
     "name": "stdout",
     "output_type": "stream",
     "text": [
      "tensor([1.2705, 1.8524, 1.8111, 1.3863, 0.5577, 1.5440])\n"
     ]
    }
   ],
   "source": [
    "attn_scores_2 = query_2 @ keys.T\n",
    "print(attn_scores_2)"
   ]
  },
  {
   "cell_type": "code",
   "execution_count": 22,
   "id": "11eafe74",
   "metadata": {},
   "outputs": [
    {
     "name": "stdout",
     "output_type": "stream",
     "text": [
      "tensor([0.1454, 0.2194, 0.2131, 0.1578, 0.0878, 0.1764])\n"
     ]
    }
   ],
   "source": [
    "d_k = keys.shape[-1]\n",
    "attn_weights_2 = torch.softmax(attn_scores_2 / d_k ** 0.5, dim=-1)\n",
    "print(attn_weights_2)"
   ]
  },
  {
   "cell_type": "code",
   "execution_count": 23,
   "id": "3f86a1c8",
   "metadata": {},
   "outputs": [
    {
     "name": "stdout",
     "output_type": "stream",
     "text": [
      "tensor([0.3175, 0.8298])\n"
     ]
    }
   ],
   "source": [
    "context_vec_2 = attn_weights_2 @ values\n",
    "print(context_vec_2)"
   ]
  },
  {
   "cell_type": "code",
   "execution_count": 24,
   "id": "29a95c32",
   "metadata": {},
   "outputs": [],
   "source": [
    "import torch.nn as nn \n",
    "\n",
    "class SelfAttention_v1(nn.Module):\n",
    "\n",
    "  def __init__(self, d_in, d_out):\n",
    "    super().__init__()\n",
    "    self.W_query  = nn.Parameter(torch.rand(d_in, d_out))\n",
    "    self.W_key    = nn.Parameter(torch.rand(d_in, d_out))\n",
    "    self.W_value  = nn.Parameter(torch.rand(d_in, d_out))\n",
    "\n",
    "  def forward(self, x):\n",
    "    keys    = x @ self.W_key\n",
    "    queries = x @ self.W_query\n",
    "    values  = x @ self.W_value\n",
    "\n",
    "    attn_scores = queries @ keys.T\n",
    "    attn_weights = torch.softmax(attn_scores / keys.shape[-1]**0.5, dim=-1)\n",
    "    context_vec = attn_weights @ values\n",
    "    return context_vec\n",
    "\n"
   ]
  },
  {
   "cell_type": "code",
   "execution_count": 25,
   "id": "6e6bf004",
   "metadata": {},
   "outputs": [
    {
     "name": "stdout",
     "output_type": "stream",
     "text": [
      "tensor([[0.3120, 0.8167],\n",
      "        [0.3175, 0.8298],\n",
      "        [0.3173, 0.8292],\n",
      "        [0.3107, 0.8140],\n",
      "        [0.3058, 0.8030],\n",
      "        [0.3115, 0.8157]], grad_fn=<MmBackward0>)\n"
     ]
    }
   ],
   "source": [
    "torch.manual_seed(123)\n",
    "sa_v1 = SelfAttention_v1(d_in, d_out)\n",
    "print(sa_v1(inputs))"
   ]
  },
  {
   "cell_type": "code",
   "execution_count": 26,
   "id": "875379f7",
   "metadata": {},
   "outputs": [
    {
     "name": "stdout",
     "output_type": "stream",
     "text": [
      "tensor([0.3175, 0.8298])\n"
     ]
    }
   ],
   "source": [
    "print(context_vec_2)"
   ]
  },
  {
   "cell_type": "code",
   "execution_count": 27,
   "id": "ec7aca2b",
   "metadata": {},
   "outputs": [],
   "source": [
    "class SelfAttention_v2(nn.Module):\n",
    "  \n",
    "  def __init__(self, d_in, d_out, qkv_bias=False):\n",
    "    super().__init__()\n",
    "    self.W_query  = nn.Linear(d_in, d_out, bias=qkv_bias)\n",
    "    self.W_key    = nn.Linear(d_in, d_out, bias=qkv_bias)\n",
    "    self.W_value  = nn.Linear(d_in, d_out, bias=qkv_bias)\n",
    "\n",
    "  def forward(self, x):\n",
    "    keys    = self.W_key(x)\n",
    "    queries = self.W_query(x)\n",
    "    values  = self.W_value(x)\n",
    "\n",
    "    attn_scores = queries @ keys.T\n",
    "    attn_weights = torch.softmax(attn_scores / keys.shape[-1]**0.5, dim=-1)\n",
    "    context_vec = attn_weights @ values\n",
    "    return context_vec\n",
    "    "
   ]
  },
  {
   "cell_type": "code",
   "execution_count": 28,
   "id": "9578f9a5",
   "metadata": {},
   "outputs": [
    {
     "name": "stdout",
     "output_type": "stream",
     "text": [
      "tensor([[-0.0794,  0.0684],\n",
      "        [-0.0801,  0.0677],\n",
      "        [-0.0802,  0.0676],\n",
      "        [-0.0817,  0.0655],\n",
      "        [-0.0822,  0.0647],\n",
      "        [-0.0810,  0.0664]], grad_fn=<MmBackward0>)\n"
     ]
    }
   ],
   "source": [
    "torch.manual_seed(789)\n",
    "sa_v2 = SelfAttention_v2(d_in, d_out)\n",
    "print(sa_v2(inputs))"
   ]
  },
  {
   "cell_type": "markdown",
   "id": "0da09ebc",
   "metadata": {},
   "source": [
    "## 3. 5 Causal Attention で未来の単語を隠す"
   ]
  },
  {
   "cell_type": "code",
   "execution_count": 29,
   "id": "4fc4296f",
   "metadata": {},
   "outputs": [
    {
     "name": "stdout",
     "output_type": "stream",
     "text": [
      "tensor([[0.1936, 0.1659, 0.1664, 0.1487, 0.1734, 0.1521],\n",
      "        [0.2059, 0.1673, 0.1677, 0.1422, 0.1679, 0.1490],\n",
      "        [0.2053, 0.1673, 0.1677, 0.1425, 0.1678, 0.1493],\n",
      "        [0.1935, 0.1680, 0.1681, 0.1496, 0.1656, 0.1552],\n",
      "        [0.1838, 0.1675, 0.1676, 0.1554, 0.1665, 0.1591],\n",
      "        [0.1947, 0.1674, 0.1677, 0.1486, 0.1677, 0.1539]],\n",
      "       grad_fn=<SoftmaxBackward0>)\n"
     ]
    }
   ],
   "source": [
    "queries = sa_v2.W_query(inputs)\n",
    "keys    = sa_v2.W_key(inputs)\n",
    "\n",
    "attn_scores = queries @ keys.T\n",
    "attn_weights = torch.softmax(attn_scores / keys.shape[-1] ** 0.5, dim=-1)\n",
    "print(attn_weights)"
   ]
  },
  {
   "cell_type": "code",
   "execution_count": 30,
   "id": "22f6178f",
   "metadata": {},
   "outputs": [
    {
     "name": "stdout",
     "output_type": "stream",
     "text": [
      "tensor([[1., 0., 0., 0., 0., 0.],\n",
      "        [1., 1., 0., 0., 0., 0.],\n",
      "        [1., 1., 1., 0., 0., 0.],\n",
      "        [1., 1., 1., 1., 0., 0.],\n",
      "        [1., 1., 1., 1., 1., 0.],\n",
      "        [1., 1., 1., 1., 1., 1.]])\n"
     ]
    }
   ],
   "source": [
    "context_length = attn_scores.shape[0]\n",
    "mask_simple = torch.tril(torch.ones(context_length, context_length))\n",
    "print(mask_simple)"
   ]
  },
  {
   "cell_type": "code",
   "execution_count": 31,
   "id": "2b42f09a",
   "metadata": {},
   "outputs": [
    {
     "name": "stdout",
     "output_type": "stream",
     "text": [
      "tensor([[0.1936, 0.0000, 0.0000, 0.0000, 0.0000, 0.0000],\n",
      "        [0.2059, 0.1673, 0.0000, 0.0000, 0.0000, 0.0000],\n",
      "        [0.2053, 0.1673, 0.1677, 0.0000, 0.0000, 0.0000],\n",
      "        [0.1935, 0.1680, 0.1681, 0.1496, 0.0000, 0.0000],\n",
      "        [0.1838, 0.1675, 0.1676, 0.1554, 0.1665, 0.0000],\n",
      "        [0.1947, 0.1674, 0.1677, 0.1486, 0.1677, 0.1539]],\n",
      "       grad_fn=<MulBackward0>)\n"
     ]
    }
   ],
   "source": [
    "masked_simple = attn_weights * mask_simple\n",
    "print(masked_simple)"
   ]
  },
  {
   "cell_type": "code",
   "execution_count": 32,
   "id": "f439c716",
   "metadata": {},
   "outputs": [
    {
     "name": "stdout",
     "output_type": "stream",
     "text": [
      "tensor([[1.0000, 0.0000, 0.0000, 0.0000, 0.0000, 0.0000],\n",
      "        [0.5517, 0.4483, 0.0000, 0.0000, 0.0000, 0.0000],\n",
      "        [0.3800, 0.3097, 0.3103, 0.0000, 0.0000, 0.0000],\n",
      "        [0.2849, 0.2473, 0.2475, 0.2203, 0.0000, 0.0000],\n",
      "        [0.2186, 0.1992, 0.1993, 0.1849, 0.1980, 0.0000],\n",
      "        [0.1947, 0.1674, 0.1677, 0.1486, 0.1677, 0.1539]],\n",
      "       grad_fn=<DivBackward0>)\n"
     ]
    }
   ],
   "source": [
    "row_sums = masked_simple.sum(dim=-1, keepdim=True)\n",
    "masked_simple_norm = masked_simple / row_sums\n",
    "print(masked_simple_norm)"
   ]
  },
  {
   "cell_type": "code",
   "execution_count": 33,
   "id": "6d438ca7",
   "metadata": {},
   "outputs": [
    {
     "name": "stdout",
     "output_type": "stream",
     "text": [
      "tensor([[ 0.2899,    -inf,    -inf,    -inf,    -inf,    -inf],\n",
      "        [ 0.4656,  0.1723,    -inf,    -inf,    -inf,    -inf],\n",
      "        [ 0.4594,  0.1703,  0.1731,    -inf,    -inf,    -inf],\n",
      "        [ 0.3396,  0.1394,  0.1404, -0.0242,    -inf,    -inf],\n",
      "        [ 0.2183,  0.0874,  0.0882, -0.0185,  0.0786,    -inf],\n",
      "        [ 0.3408,  0.1270,  0.1290, -0.0413,  0.1290,  0.0078]],\n",
      "       grad_fn=<MaskedFillBackward0>)\n"
     ]
    }
   ],
   "source": [
    "mask = torch.triu(torch.ones(context_length, context_length), diagonal=1)\n",
    "masked = attn_scores.masked_fill(mask.bool(), -torch.inf)\n",
    "print(masked)"
   ]
  },
  {
   "cell_type": "code",
   "execution_count": 34,
   "id": "95814457",
   "metadata": {},
   "outputs": [
    {
     "name": "stdout",
     "output_type": "stream",
     "text": [
      "tensor([[1.0000, 0.0000, 0.0000, 0.0000, 0.0000, 0.0000],\n",
      "        [0.5517, 0.4483, 0.0000, 0.0000, 0.0000, 0.0000],\n",
      "        [0.3800, 0.3097, 0.3103, 0.0000, 0.0000, 0.0000],\n",
      "        [0.2849, 0.2473, 0.2475, 0.2203, 0.0000, 0.0000],\n",
      "        [0.2186, 0.1992, 0.1994, 0.1849, 0.1980, 0.0000],\n",
      "        [0.1947, 0.1674, 0.1677, 0.1486, 0.1677, 0.1539]],\n",
      "       grad_fn=<SoftmaxBackward0>)\n"
     ]
    }
   ],
   "source": [
    "attn_weights = torch.softmax(masked / keys.shape[-1]**0.5, dim=1)\n",
    "print(attn_weights)"
   ]
  },
  {
   "cell_type": "code",
   "execution_count": 37,
   "id": "38c6cb08",
   "metadata": {},
   "outputs": [
    {
     "name": "stdout",
     "output_type": "stream",
     "text": [
      "tensor([[2., 0., 2., 2., 2., 2.],\n",
      "        [2., 0., 2., 2., 0., 2.],\n",
      "        [0., 2., 2., 0., 2., 0.],\n",
      "        [2., 2., 2., 0., 0., 0.],\n",
      "        [0., 0., 2., 2., 0., 2.],\n",
      "        [0., 2., 2., 2., 0., 2.]])\n"
     ]
    }
   ],
   "source": [
    "# dropout\n",
    "dropout = torch.nn.Dropout(p=0.5)\n",
    "example = torch.ones(6, 6)\n",
    "print(dropout(example))"
   ]
  },
  {
   "cell_type": "code",
   "execution_count": 40,
   "id": "170ceb3f",
   "metadata": {},
   "outputs": [
    {
     "name": "stdout",
     "output_type": "stream",
     "text": [
      "tensor([[0.0000, 0.0000, 0.0000, 0.0000, 0.0000, 0.0000],\n",
      "        [0.0000, 0.0000, 0.0000, 0.0000, 0.0000, 0.0000],\n",
      "        [0.7599, 0.6194, 0.6206, 0.0000, 0.0000, 0.0000],\n",
      "        [0.0000, 0.4946, 0.4950, 0.4406, 0.0000, 0.0000],\n",
      "        [0.0000, 0.0000, 0.3987, 0.0000, 0.0000, 0.0000],\n",
      "        [0.3895, 0.3348, 0.0000, 0.0000, 0.3353, 0.0000]],\n",
      "       grad_fn=<MulBackward0>)\n"
     ]
    }
   ],
   "source": [
    "torch.manual_seed(789)\n",
    "print(dropout(attn_weights))"
   ]
  },
  {
   "cell_type": "code",
   "execution_count": 42,
   "id": "899e5032",
   "metadata": {},
   "outputs": [
    {
     "name": "stdout",
     "output_type": "stream",
     "text": [
      "torch.Size([2, 6, 3])\n"
     ]
    }
   ],
   "source": [
    "batch = torch.stack((inputs, inputs), dim=0)\n",
    "print(batch.shape)"
   ]
  },
  {
   "cell_type": "code",
   "execution_count": 50,
   "id": "13b71b69",
   "metadata": {},
   "outputs": [],
   "source": [
    "class CausalAttention(nn.Module):\n",
    "  def __init__(self, d_in, d_out, context_length, dropout, qkv_bias=False):\n",
    "    super().__init__()\n",
    "    self.d_out = d_out\n",
    "    self.W_query  = nn.Linear(d_in, d_out, bias=qkv_bias)\n",
    "    self.W_key    = nn.Linear(d_in, d_out, bias=qkv_bias)\n",
    "    self.W_value  = nn.Linear(d_in, d_out, bias=qkv_bias)\n",
    "\n",
    "    self.dropout  = nn.Dropout(dropout)\n",
    "    self.register_buffer('mask', torch.triu(torch.ones(context_length, context_length), diagonal=1))\n",
    "\n",
    "  def forward(self, x):\n",
    "    b, num_tokens, d_in = x.shape\n",
    "    keys    = self.W_key(x)\n",
    "    queries = self.W_query(x)\n",
    "    values  = self.W_value(x)\n",
    "\n",
    "    attn_scores = queries @ keys.transpose(1, 2)\n",
    "    attn_scores.masked_fill_(self.mask.bool()[:num_tokens, :num_tokens], -torch.inf)\n",
    "    attn_weights = torch.softmax(attn_scores / keys.shape[-1]**0.5, dim=-1)\n",
    "    attn_weights = self.dropout(attn_weights)\n",
    "\n",
    "    context_vec = attn_weights @ values\n",
    "    return context_vec"
   ]
  },
  {
   "cell_type": "code",
   "execution_count": 51,
   "id": "d1e18dca",
   "metadata": {},
   "outputs": [
    {
     "name": "stdout",
     "output_type": "stream",
     "text": [
      "context_vecs.shape: torch.Size([2, 6, 2])\n"
     ]
    }
   ],
   "source": [
    "torch.manual_seed(123)\n",
    "context_length = batch.shape[1]\n",
    "ca = CausalAttention(d_in, d_out, context_length, 0.0)\n",
    "context_vecs = ca(batch)\n",
    "print(\"context_vecs.shape:\", context_vecs.shape)"
   ]
  },
  {
   "cell_type": "code",
   "execution_count": null,
   "id": "2ce3674a",
   "metadata": {},
   "outputs": [],
   "source": []
  }
 ],
 "metadata": {
  "kernelspec": {
   "display_name": ".venv",
   "language": "python",
   "name": "python3"
  },
  "language_info": {
   "codemirror_mode": {
    "name": "ipython",
    "version": 3
   },
   "file_extension": ".py",
   "mimetype": "text/x-python",
   "name": "python",
   "nbconvert_exporter": "python",
   "pygments_lexer": "ipython3",
   "version": "3.10.12"
  }
 },
 "nbformat": 4,
 "nbformat_minor": 5
}
