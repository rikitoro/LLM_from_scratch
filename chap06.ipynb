{
 "cells": [
  {
   "cell_type": "markdown",
   "id": "6f7ab15b",
   "metadata": {},
   "source": [
    "# 6. 分類のためのファインチューニング"
   ]
  },
  {
   "cell_type": "markdown",
   "id": "1bcf7bb8",
   "metadata": {},
   "source": [
    "## 6.2 データセットを準備する"
   ]
  },
  {
   "cell_type": "code",
   "execution_count": null,
   "id": "4fa5118d",
   "metadata": {},
   "outputs": [],
   "source": [
    "# List 6-1\n",
    "\n",
    "import urllib.request\n",
    "import zipfile\n",
    "import os\n",
    "from pathlib import Path\n",
    "\n",
    "url = \"https://archive.ics.uci.edu/static/public/228/sms+spam+collection.zip\"\n",
    "zip_path = \"sms_spam_collection.zip\"\n",
    "extracted_path = \"sms_spam_collection\"\n",
    "data_file_path = Path(extracted_path) / \"SMSSpamCollection.tsv\"\n",
    "\n",
    "def download_and_unzip_spam_data(url, zip_path, extracted_path, data_file_path):\n",
    "  if data_file_path.exists():\n",
    "    print(f\"{data_file_path} already exists. Skipping download and extraction.\")\n",
    "    return\n",
    "  \n",
    "  with urllib.request.urlopen(url) as response:\n",
    "    with open(zip_path, \"wb\") as out_file:\n",
    "      out_file.write(response.read())\n",
    "\n",
    "  with zipfile.ZipFile(zip_path, \"r\") as zip_ref:\n",
    "    zip_ref.extractall(extracted_path)\n",
    "\n",
    "  original_file_path = Path(extracted_path) / \"SMSSpamCollection\"\n",
    "  os.rename(original_file_path, data_file_path)\n",
    "  print(f\"File downloaded and saved as {data_file_path}\")"
   ]
  },
  {
   "cell_type": "code",
   "execution_count": null,
   "id": "3a5e24d6",
   "metadata": {},
   "outputs": [],
   "source": [
    "download_and_unzip_spam_data(url, zip_path, extracted_path, data_file_path)"
   ]
  },
  {
   "cell_type": "code",
   "execution_count": null,
   "id": "174e4996",
   "metadata": {},
   "outputs": [],
   "source": [
    "import pandas as pd\n",
    "\n",
    "df = pd.read_csv(data_file_path, sep=\"\\t\", header=None, names=[\"Label\", \"Text\"])\n",
    "df"
   ]
  },
  {
   "cell_type": "code",
   "execution_count": null,
   "id": "c722d9c7",
   "metadata": {},
   "outputs": [],
   "source": [
    "print(df[\"Label\"].value_counts())"
   ]
  },
  {
   "cell_type": "code",
   "execution_count": null,
   "id": "449ee8a4",
   "metadata": {},
   "outputs": [],
   "source": [
    "# List 6-2\n",
    "\n",
    "def create_balanced_dataset(df):\n",
    "  num_spam = df[df[\"Label\"] == \"spam\"].shape[0]\n",
    "  ham_subset= df[df[\"Label\"] == \"ham\"].sample(num_spam, random_state=123)\n",
    "  balanced_df = pd.concat([ham_subset, df[df[\"Label\"] == \"spam\"]])\n",
    "  return balanced_df\n",
    "\n",
    "balanced_df = create_balanced_dataset(df)\n",
    "print(balanced_df[\"Label\"].value_counts())"
   ]
  },
  {
   "cell_type": "code",
   "execution_count": null,
   "id": "5daf84d4",
   "metadata": {},
   "outputs": [],
   "source": [
    "balanced_df[\"Label\"] = balanced_df[\"Label\"].map({\"ham\": 0, \"spam\": 1})"
   ]
  },
  {
   "cell_type": "code",
   "execution_count": null,
   "id": "9b62e691",
   "metadata": {},
   "outputs": [],
   "source": [
    "def random_split(df, train_frac, validation_frac):\n",
    "  df = df.sample(frac=1, random_state=123).reset_index(drop=True)\n",
    "  train_end = int(len(df) * train_frac)\n",
    "  validation_end = train_end + int(len(df) * validation_frac)\n",
    "\n",
    "  train_df = df[:train_end]\n",
    "  validation_df = df[train_end:validation_end]\n",
    "  test_df = df[validation_end:]\n",
    "\n",
    "  return train_df, validation_df, test_df\n",
    "\n",
    "train_df, validation_df, test_df = random_split(balanced_df, 0.7, 0.1)"
   ]
  },
  {
   "cell_type": "code",
   "execution_count": null,
   "id": "07b626c7",
   "metadata": {},
   "outputs": [],
   "source": [
    "train_df.to_csv(\"train.csv\", index=None)\n",
    "validation_df.to_csv(\"validation.csv\", index=None)\n",
    "test_df.to_csv(\"test.csv\", index=None)"
   ]
  },
  {
   "cell_type": "markdown",
   "id": "24e696a4",
   "metadata": {},
   "source": [
    "## 6.3 データローダーを作成する"
   ]
  },
  {
   "cell_type": "code",
   "execution_count": null,
   "id": "f93312da",
   "metadata": {},
   "outputs": [],
   "source": [
    "import tiktoken\n",
    "tokenizer = tiktoken.get_encoding(\"gpt2\")\n",
    "print(tokenizer.encode(\"<|endoftext|>\", allowed_special={\"<|endoftext|>\"}))"
   ]
  },
  {
   "cell_type": "code",
   "execution_count": null,
   "id": "ab9b4588",
   "metadata": {},
   "outputs": [],
   "source": [
    "# List 6-4\n",
    "import torch\n",
    "from torch.utils.data import Dataset\n",
    "\n",
    "class SpamDataset(Dataset):\n",
    "  def __init__(self, csv_file, tokenizer, max_length=None, pad_token_id=50256):\n",
    "    self.data = pd.read_csv(csv_file)\n",
    "\n",
    "    self.encoded_texts =[tokenizer.encode(text) for text in self.data[\"Text\"]]\n",
    "\n",
    "    if max_length is None:\n",
    "      self.max_length = self._longest_encoded_length()\n",
    "    else:\n",
    "      self.max_length = max_length\n",
    "\n",
    "      self.encoded_texts = [\n",
    "        encoded_text[:self.max_length]\n",
    "        for encoded_text in self.encoded_texts\n",
    "      ]\n",
    "\n",
    "    self.encoded_texts = [\n",
    "      encoded_text + [pad_token_id] * (self.max_length - len(encoded_text))\n",
    "      for encoded_text in self.encoded_texts\n",
    "    ]\n",
    "\n",
    "  def __getitem__(self, index):\n",
    "    encoded = self.encoded_texts[index]\n",
    "    label = self.data.iloc[index][\"Label\"]\n",
    "    return {\n",
    "      torch.tensor(encoded, dtype=torch.long),\n",
    "      torch.tensor(label, dtype=torch.long)\n",
    "    }\n",
    "  \n",
    "  def __len__(self):\n",
    "    return len(self.data)\n",
    "                 \n",
    "  def _longest_encoded_length(self):\n",
    "    max_length = 0\n",
    "    for encoded_text in self.encoded_texts:\n",
    "      encoded_length = len(encoded_text)\n",
    "      if encoded_length > max_length:\n",
    "        max_length = encoded_length\n",
    "    return max_length"
   ]
  },
  {
   "cell_type": "code",
   "execution_count": null,
   "id": "d5913c44",
   "metadata": {},
   "outputs": [],
   "source": [
    "train_dataset = SpamDataset(\n",
    "  csv_file=\"train.csv\", max_length=None, tokenizer=tokenizer\n",
    ")"
   ]
  },
  {
   "cell_type": "code",
   "execution_count": null,
   "id": "ff3a5f86",
   "metadata": {},
   "outputs": [],
   "source": [
    "print(train_dataset.max_length)"
   ]
  },
  {
   "cell_type": "code",
   "execution_count": null,
   "id": "b4112b36",
   "metadata": {},
   "outputs": [],
   "source": [
    "val_dataset = SpamDataset(\n",
    "  csv_file=\"validation.csv\", max_length=train_dataset.max_length,\n",
    "  tokenizer=tokenizer\n",
    ")"
   ]
  },
  {
   "cell_type": "code",
   "execution_count": null,
   "id": "73db53b1",
   "metadata": {},
   "outputs": [],
   "source": [
    "test_dataset = SpamDataset(\n",
    "  csv_file=\"test.csv\", max_length=train_dataset.max_length,\n",
    "  tokenizer=tokenizer\n",
    ")"
   ]
  },
  {
   "cell_type": "code",
   "execution_count": null,
   "id": "ae91a6f4",
   "metadata": {},
   "outputs": [],
   "source": [
    "# List 6-5 Pytorch dataloader\n",
    "\n",
    "from torch.utils.data import DataLoader\n",
    "\n",
    "num_workers = 0\n",
    "batch_size = 8\n",
    "torch.manual_seed(123)\n",
    "\n",
    "train_loader = DataLoader(\n",
    "  dataset=train_dataset,\n",
    "  batch_size=batch_size,\n",
    "  shuffle=True,\n",
    "  num_workers=num_workers,\n",
    "  drop_last=True\n",
    ")\n",
    "\n",
    "val_loader = DataLoader(\n",
    "  dataset=val_dataset,\n",
    "  batch_size=batch_size,\n",
    "  shuffle=True,\n",
    "  num_workers=num_workers,\n",
    "  drop_last=False\n",
    ")\n",
    "\n",
    "test_loader = DataLoader(\n",
    "  dataset=test_dataset,\n",
    "  batch_size=batch_size,\n",
    "  shuffle=True,\n",
    "  num_workers=num_workers,\n",
    "  drop_last=True\n",
    ")"
   ]
  },
  {
   "cell_type": "code",
   "execution_count": null,
   "id": "91ebd5c6",
   "metadata": {},
   "outputs": [],
   "source": []
  },
  {
   "cell_type": "code",
   "execution_count": null,
   "id": "3ecc0e28",
   "metadata": {},
   "outputs": [],
   "source": []
  }
 ],
 "metadata": {
  "kernelspec": {
   "display_name": ".venv",
   "language": "python",
   "name": "python3"
  },
  "language_info": {
   "codemirror_mode": {
    "name": "ipython",
    "version": 3
   },
   "file_extension": ".py",
   "mimetype": "text/x-python",
   "name": "python",
   "nbconvert_exporter": "python",
   "pygments_lexer": "ipython3",
   "version": "3.10.12"
  }
 },
 "nbformat": 4,
 "nbformat_minor": 5
}
